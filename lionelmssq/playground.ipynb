{
 "cells": [
  {
   "cell_type": "code",
   "execution_count": 2,
   "metadata": {},
   "outputs": [],
   "source": [
    "import importlib.resources\n",
    "import polars as pl"
   ]
  },
  {
   "cell_type": "code",
   "execution_count": 11,
   "metadata": {},
   "outputs": [
    {
     "name": "stdout",
     "output_type": "stream",
     "text": [
      "shape: (145, 2)\n",
      "┌────────────┬───────────────────┐\n",
      "│ nucleoside ┆ monoisotopic_mass │\n",
      "│ ---        ┆ ---               │\n",
      "│ str        ┆ f64               │\n",
      "╞════════════╪═══════════════════╡\n",
      "│ 00G        ┆ 495.1003          │\n",
      "│ 309U       ┆ 345.117215        │\n",
      "│ 01G        ┆ 311.123           │\n",
      "│ 101G       ┆ 311.123           │\n",
      "│ 8U         ┆ 246.085186        │\n",
      "│ …          ┆ …                 │\n",
      "│ 253U       ┆ 317.068156        │\n",
      "│ 053U       ┆ 315.10665         │\n",
      "│ 2164A      ┆ 440.1114          │\n",
      "│ 2161A      ┆ 381.1471          │\n",
      "│ 621A       ┆ 327.1001          │\n",
      "└────────────┴───────────────────┘\n"
     ]
    }
   ],
   "source": [
    "_COLS = [\"nucleoside\", \"monoisotopic_mass\"]\n",
    "\n",
    "MASSES = pl.read_csv(\n",
    "    # (importlib.resources.files(__package__) / \"assets\" / \"masses.tsv\"),\n",
    "    # separator=\"\\t\",\n",
    "    (\"assets/masses_all.tsv\"),\n",
    "    separator=\"\\t\",\n",
    "    # (\"assets/masses4.tsv\"), separator=\"\\t\"\n",
    ")\n",
    "# TODO: Change the file to masses_all.tsv for all modifications. Note: \"masses_all.tsv\" has multiples nucleosides with the same mass!\n",
    "\n",
    "assert MASSES.columns == _COLS\n",
    "\n",
    "print(MASSES)"
   ]
  },
  {
   "cell_type": "code",
   "execution_count": 13,
   "metadata": {},
   "outputs": [
    {
     "name": "stdout",
     "output_type": "stream",
     "text": [
      "shape: (145, 2)\n",
      "┌────────────┬───────────────────┐\n",
      "│ nucleoside ┆ monoisotopic_mass │\n",
      "│ ---        ┆ ---               │\n",
      "│ str        ┆ f64               │\n",
      "╞════════════╪═══════════════════╡\n",
      "│ 00G        ┆ 495.1003          │\n",
      "│ 309U       ┆ 345.11721         │\n",
      "│ 01G        ┆ 311.123           │\n",
      "│ 101G       ┆ 311.123           │\n",
      "│ 8U         ┆ 246.08519         │\n",
      "│ …          ┆ …                 │\n",
      "│ 253U       ┆ 317.06816         │\n",
      "│ 053U       ┆ 315.10665         │\n",
      "│ 2164A      ┆ 440.1114          │\n",
      "│ 2161A      ┆ 381.1471          │\n",
      "│ 621A       ┆ 327.1001          │\n",
      "└────────────┴───────────────────┘\n",
      "shape: (105, 2)\n",
      "┌────────────┬───────────────────┐\n",
      "│ nucleoside ┆ monoisotopic_mass │\n",
      "│ ---        ┆ ---               │\n",
      "│ str        ┆ f64               │\n",
      "╞════════════╪═══════════════════╡\n",
      "│ 00G        ┆ 495.1003          │\n",
      "│ 309U       ┆ 345.11721         │\n",
      "│ 01G        ┆ 311.123           │\n",
      "│ 8U         ┆ 246.08519         │\n",
      "│ 510U       ┆ 273.09609         │\n",
      "│ …          ┆ …                 │\n",
      "│ 253U       ┆ 317.06816         │\n",
      "│ 053U       ┆ 315.10665         │\n",
      "│ 2164A      ┆ 440.1114          │\n",
      "│ 2161A      ┆ 381.1471          │\n",
      "│ 621A       ┆ 327.1001          │\n",
      "└────────────┴───────────────────┘\n",
      "shape: (3, 2)\n",
      "┌────────────┬───────────────────┐\n",
      "│ nucleoside ┆ monoisotopic_mass │\n",
      "│ ---        ┆ ---               │\n",
      "│ str        ┆ f64               │\n",
      "╞════════════╪═══════════════════╡\n",
      "│ C          ┆ 243.08552         │\n",
      "│ A          ┆ 267.09675         │\n",
      "│ G          ┆ 283.09167         │\n",
      "└────────────┴───────────────────┘\n"
     ]
    }
   ],
   "source": [
    "# TODO: Add the appropriate backbone masses and the terminal extra masses to the nucleosides!\n",
    "\n",
    "MASSES = MASSES.with_columns(pl.col(\"monoisotopic_mass\").round(5))\n",
    "\n",
    "print(MASSES)\n",
    "\n",
    "UNIQUE_MASSES = (\n",
    "    MASSES.group_by(\"monoisotopic_mass\", maintain_order=True)\n",
    "    .first()\n",
    "    .select(pl.col(_COLS))\n",
    ")\n",
    "\n",
    "print(UNIQUE_MASSES)\n",
    "\n",
    "print((UNIQUE_MASSES.filter(pl.col(\"nucleoside\").is_in([\"A\", \"C\", \"G\", \"U\"]))))"
   ]
  },
  {
   "cell_type": "code",
   "execution_count": 5,
   "metadata": {},
   "outputs": [
    {
     "name": "stdout",
     "output_type": "stream",
     "text": [
      "shape: (106, 3)\n",
      "┌────────────┬───────────────────┬──────────────────────────┐\n",
      "│ nucleoside ┆ monoisotopic_mass ┆ tolerated_integer_masses │\n",
      "│ ---        ┆ ---               ┆ ---                      │\n",
      "│ str        ┆ f64               ┆ i64                      │\n",
      "╞════════════╪═══════════════════╪══════════════════════════╡\n",
      "│ 00G        ┆ 495.1003          ┆ 49510030                 │\n",
      "│ 309U       ┆ 345.117215        ┆ 34511721                 │\n",
      "│ 01G        ┆ 311.123           ┆ 31112300                 │\n",
      "│ 8U         ┆ 246.085186        ┆ 24608519                 │\n",
      "│ 510U       ┆ 273.096085        ┆ 27309609                 │\n",
      "│ …          ┆ …                 ┆ …                        │\n",
      "│ 253U       ┆ 317.068156        ┆ 31706816                 │\n",
      "│ 053U       ┆ 315.10665         ┆ 31510665                 │\n",
      "│ 2164A      ┆ 440.1114          ┆ 44011140                 │\n",
      "│ 2161A      ┆ 381.1471          ┆ 38114710                 │\n",
      "│ 621A       ┆ 327.1001          ┆ 32710010                 │\n",
      "└────────────┴───────────────────┴──────────────────────────┘\n"
     ]
    }
   ],
   "source": [
    "TOLERANCE = 1e-5  # For perfect matching, the TOLERANCE should be the precision (digits after decimal) to which the masses of nucleosides and sequences are reported\n",
    "\n",
    "MATCHING_THRESHOLD = 0  # This dictates a matching threshold such that we consider -MATCHING_THRESHOLD < (sum(masses) - target_mass) < MATCHING_THRESHOLD to be matched!\n",
    "# If TOLERANCE < num_of_decimals in reported masses, then MATCHING_THRESHOLD should at least be greater or equal than the number of nucleotides expected for a target mass!\n",
    "\n",
    "EXPLANATION_MASSES = UNIQUE_MASSES.with_columns(\n",
    "    (pl.col(\"monoisotopic_mass\") / TOLERANCE)\n",
    "    .round(0)\n",
    "    .cast(pl.Int64)\n",
    "    .alias(\"tolerated_integer_masses\")\n",
    ")\n",
    "\n",
    "print(EXPLANATION_MASSES)"
   ]
  },
  {
   "cell_type": "code",
   "execution_count": 14,
   "metadata": {},
   "outputs": [
    {
     "name": "stdout",
     "output_type": "stream",
     "text": [
      "shape: (4, 3)\n",
      "┌────────────┬───────────────────┬──────────────────────────┐\n",
      "│ nucleoside ┆ monoisotopic_mass ┆ tolerated_integer_masses │\n",
      "│ ---        ┆ ---               ┆ ---                      │\n",
      "│ str        ┆ f64               ┆ i64                      │\n",
      "╞════════════╪═══════════════════╪══════════════════════════╡\n",
      "│ C          ┆ 243.08552         ┆ 24308552                 │\n",
      "│ A          ┆ 267.09675         ┆ 26709675                 │\n",
      "│ G          ┆ 283.09167         ┆ 28309167                 │\n",
      "│ U          ┆ 244.06954         ┆ 24406954                 │\n",
      "└────────────┴───────────────────┴──────────────────────────┘\n"
     ]
    }
   ],
   "source": [
    "print((EXPLANATION_MASSES.filter(pl.col(\"nucleoside\").is_in([\"A\", \"C\", \"G\", \"U\"]))))"
   ]
  },
  {
   "cell_type": "code",
   "execution_count": 9,
   "metadata": {},
   "outputs": [
    {
     "name": "stdout",
     "output_type": "stream",
     "text": [
      "shape: (105, 3)\n",
      "┌──────────────────────────┬────────────┬───────────────────┐\n",
      "│ tolerated_integer_masses ┆ nucleoside ┆ monoisotopic_mass │\n",
      "│ ---                      ┆ ---        ┆ ---               │\n",
      "│ i64                      ┆ str        ┆ f64               │\n",
      "╞══════════════════════════╪════════════╪═══════════════════╡\n",
      "│ 49510030                 ┆ 00G        ┆ 495.1003          │\n",
      "│ 34511721                 ┆ 309U       ┆ 345.117215        │\n",
      "│ 31112300                 ┆ 01G        ┆ 311.123           │\n",
      "│ 24608519                 ┆ 8U         ┆ 246.085186        │\n",
      "│ 27309609                 ┆ 510U       ┆ 273.096085        │\n",
      "│ …                        ┆ …          ┆ …                 │\n",
      "│ 31706816                 ┆ 253U       ┆ 317.068156        │\n",
      "│ 31510665                 ┆ 053U       ┆ 315.10665         │\n",
      "│ 44011140                 ┆ 2164A      ┆ 440.1114          │\n",
      "│ 38114710                 ┆ 2161A      ┆ 381.1471          │\n",
      "│ 32710010                 ┆ 621A       ┆ 327.1001          │\n",
      "└──────────────────────────┴────────────┴───────────────────┘\n"
     ]
    }
   ],
   "source": [
    "UNIQUE_EXPLANATION_MASSES = (\n",
    "    EXPLANATION_MASSES.group_by(\"tolerated_integer_masses\", maintain_order=True).first()\n",
    "    # .select(pl.col(_COLS))\n",
    ")\n",
    "print(UNIQUE_EXPLANATION_MASSES)"
   ]
  },
  {
   "cell_type": "code",
   "execution_count": 7,
   "metadata": {},
   "outputs": [
    {
     "name": "stdout",
     "output_type": "stream",
     "text": [
      "shape: (1, 3)\n",
      "┌────────────┬───────────────────┬──────────────────────────┐\n",
      "│ nucleoside ┆ monoisotopic_mass ┆ tolerated_integer_masses │\n",
      "│ ---        ┆ ---               ┆ ---                      │\n",
      "│ str        ┆ f64               ┆ i64                      │\n",
      "╞════════════╪═══════════════════╪══════════════════════════╡\n",
      "│ U          ┆ 244.06954         ┆ 24406954                 │\n",
      "└────────────┴───────────────────┴──────────────────────────┘\n"
     ]
    }
   ],
   "source": [
    "difference = EXPLANATION_MASSES.join(\n",
    "    UNIQUE_EXPLANATION_MASSES,\n",
    "    on=[\"tolerated_integer_masses\", \"nucleoside\", \"monoisotopic_mass\"],\n",
    "    how=\"anti\",\n",
    ")\n",
    "print(difference)"
   ]
  },
  {
   "cell_type": "code",
   "execution_count": null,
   "metadata": {},
   "outputs": [],
   "source": []
  },
  {
   "cell_type": "code",
   "execution_count": null,
   "metadata": {},
   "outputs": [],
   "source": []
  },
  {
   "cell_type": "code",
   "execution_count": 7,
   "metadata": {},
   "outputs": [
    {
     "data": {
      "text/plain": [
       "{534.1935: ('A', 'A'),\n",
       " 566.18334: ('G', 'G'),\n",
       " 486.17104: ('C', 'C'),\n",
       " 488.13908: ('U', 'U'),\n",
       " 1037.34348: ('A', 'U', 'G', 'C'),\n",
       " 1563.52067: ('A', 'U', 'G', 'G', 'C', 'C')}"
      ]
     },
     "execution_count": 7,
     "metadata": {},
     "output_type": "execute_result"
    }
   ],
   "source": [
    "TEST_MASSES = [\n",
    "    267.09675 * 2,  # 2A\n",
    "    283.09167 * 2,  # 2G\n",
    "    243.08552 * 2,  # 2C\n",
    "    244.06954 * 2,  # 2U\n",
    "    1037.34348,  # AUGC\n",
    "    1563.52067,  # CCUAGG\n",
    "]\n",
    "\n",
    "TEST_SEQ = [\n",
    "    (\"A\", \"A\"),\n",
    "    (\"G\", \"G\"),\n",
    "    (\"C\", \"C\"),\n",
    "    (\"U\", \"U\"),\n",
    "    (\"A\", \"U\", \"G\", \"C\"),\n",
    "    (\"A\", \"U\", \"G\", \"G\", \"C\", \"C\"),\n",
    "]\n",
    "\n",
    "MASS_SEQ_DICT = dict(zip(TEST_MASSES, TEST_SEQ))\n",
    "\n",
    "MASS_SEQ_DICT\n",
    "\n",
    "# _TESTCASES = importlib.resources.files(\"tests\") / \"testcases\"\n",
    "\n",
    "# @pytest.mark.parametrize(\"testcase\", _TESTCASES.iterdir())"
   ]
  },
  {
   "cell_type": "code",
   "execution_count": null,
   "metadata": {},
   "outputs": [
    {
     "name": "stdout",
     "output_type": "stream",
     "text": [
      "dict_items([(534.1935, ('A', 'A')), (566.18334, ('G', 'G')), (486.17104, ('C', 'C')), (488.13908, ('U', 'U')), (1037.34348, ('A', 'U', 'G', 'C')), (1563.52067, ('A', 'U', 'G', 'G', 'C', 'C'))])\n"
     ]
    }
   ],
   "source": [
    "iterable = MASS_SEQ_DICT.items()\n",
    "print(iterable)"
   ]
  },
  {
   "cell_type": "code",
   "execution_count": 38,
   "metadata": {},
   "outputs": [
    {
     "name": "stdout",
     "output_type": "stream",
     "text": [
      "534.1935 ('A', 'A')\n",
      "566.18334 ('G', 'G')\n",
      "486.17104 ('C', 'C')\n",
      "488.13908 ('U', 'U')\n",
      "1037.34348 ('A', 'U', 'G', 'C')\n",
      "1563.52067 ('A', 'U', 'G', 'G', 'C', 'C')\n"
     ]
    }
   ],
   "source": [
    "for key, value in iterable:\n",
    "    print(key, value)"
   ]
  },
  {
   "cell_type": "code",
   "execution_count": null,
   "metadata": {},
   "outputs": [],
   "source": [
    "import pytest\n",
    "\n",
    "\n",
    "@pytest.mark.parametrize(\"testcase\", MASS_SEQ_DICT.items())\n",
    "def test_testcase(testcase):\n",
    "    # print(testcase)\n",
    "\n",
    "    # base_path = _TESTCASES / testcase\n",
    "\n",
    "    # with open(base_path / \"meta.yaml\", \"r\") as f:\n",
    "    #    meta = yaml.safe_load(f)\n",
    "\n",
    "    # true_seq = parse_nucleosides(meta[\"true_sequence\"])\n",
    "\n",
    "    # predicted_mass_explainations = []\n",
    "\n",
    "    # for i in MASS_SEQ_DICT.keys():\n",
    "    #    predicted_mass_explainations.append(explain_mass(i))\n",
    "\n",
    "    predicted_mass_explaination = explain_mass(testcase[0])\n",
    "\n",
    "    print(testcase[0], testcase[1])\n",
    "\n",
    "    # assert prediction.sequence == true_seq\n",
    "\n",
    "    assert testcase[1] in predicted_mass_explaination"
   ]
  },
  {
   "cell_type": "code",
   "execution_count": 27,
   "metadata": {},
   "outputs": [
    {
     "name": "stdout",
     "output_type": "stream",
     "text": [
      "\u001b[1m============================= test session starts ==============================\u001b[0m\n",
      "platform darwin -- Python 3.13.0, pytest-8.3.4, pluggy-1.5.0\n",
      "rootdir: /Users/localadmin-moshir.harsh01/Work/code/lionelmssq\n",
      "configfile: pyproject.toml\n",
      "collected 0 items                                                              \u001b[0m\n",
      "\n",
      "\u001b[33m============================ \u001b[33mno tests ran\u001b[0m\u001b[33m in 0.00s\u001b[0m\u001b[33m =============================\u001b[0m\n"
     ]
    }
   ],
   "source": [
    "!pytest"
   ]
  },
  {
   "cell_type": "code",
   "execution_count": null,
   "metadata": {},
   "outputs": [],
   "source": []
  }
 ],
 "metadata": {
  "kernelspec": {
   "display_name": "ms_env",
   "language": "python",
   "name": "python3"
  },
  "language_info": {
   "codemirror_mode": {
    "name": "ipython",
    "version": 3
   },
   "file_extension": ".py",
   "mimetype": "text/x-python",
   "name": "python",
   "nbconvert_exporter": "python",
   "pygments_lexer": "ipython3",
   "version": "3.13.0"
  }
 },
 "nbformat": 4,
 "nbformat_minor": 2
}
